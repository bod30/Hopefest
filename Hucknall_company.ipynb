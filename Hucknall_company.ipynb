{
 "cells": [
  {
   "cell_type": "code",
   "execution_count": 1,
   "id": "arbitrary-arrest",
   "metadata": {},
   "outputs": [],
   "source": [
    "#importing the libraries\n",
    "from bs4 import BeautifulSoup\n",
    "import requests\n",
    "import pandas as pd"
   ]
  },
  {
   "cell_type": "code",
   "execution_count": 2,
   "id": "powerful-simon",
   "metadata": {},
   "outputs": [],
   "source": [
    "#Creating a variable to store the url from which we will scrape data\n",
    "url = 'https://www.nottingham.co.uk/in/hucknall/1/'"
   ]
  },
  {
   "cell_type": "code",
   "execution_count": 3,
   "id": "statewide-reunion",
   "metadata": {},
   "outputs": [],
   "source": [
    "#Getting the raw data from the url\n",
    "data = requests.get(url)"
   ]
  },
  {
   "cell_type": "code",
   "execution_count": 4,
   "id": "synthetic-radio",
   "metadata": {},
   "outputs": [],
   "source": [
    "#Using the html parser to get the html from the data extracted in the previous step\n",
    "soup = BeautifulSoup(data.text, 'html.parser')"
   ]
  },
  {
   "cell_type": "code",
   "execution_count": 5,
   "id": "associate-obligation",
   "metadata": {},
   "outputs": [],
   "source": [
    "#Creating a variable to store the data contained within the tag 'div'.\n",
    "company = soup.find(\"div\")"
   ]
  },
  {
   "cell_type": "code",
   "execution_count": 6,
   "id": "functioning-translator",
   "metadata": {},
   "outputs": [],
   "source": [
    "#Finding all the bar names and storing it in the variable bar_names. All the bar names are embedded within the tags <h3> and </h3>.\n",
    "\n",
    "company_names=company.find_all(\"h3\")"
   ]
  },
  {
   "cell_type": "code",
   "execution_count": 7,
   "id": "swiss-environment",
   "metadata": {},
   "outputs": [],
   "source": [
    "#Creating a loop to get clean data without special characters or html tags. Assigning the clean names to a list called 'bar_list'. \n",
    "\n",
    "company_list = []\n",
    "for b in company_names[0:]:\n",
    "    result = b.text.strip()\n",
    "    company_list.append(result)"
   ]
  },
  {
   "cell_type": "code",
   "execution_count": 8,
   "id": "optical-aircraft",
   "metadata": {},
   "outputs": [
    {
     "name": "stdout",
     "output_type": "stream",
     "text": [
      "['Watnall Road Car Centre', 'A .2 B Cars', 'A Stitch in Time', 'A Stitch In Time', 'A Stitch In Time', 'A W Lymn', 'A2B', 'Aldi', \"Alicia's Nail Salon\", 'Alpine', 'Annesley Road Fish Bar', 'Argos Extra', 'Atlantis Fish Bar', 'Avanti Hair', 'B & M Installations', 'B&M Bargains', 'Bairstow Eves', 'Bambino Beads Limited', 'Bap Shack', 'Barclays Bank PLC']\n"
     ]
    }
   ],
   "source": [
    "#Displaying the 'bar_list'\n",
    "print(company_list)"
   ]
  },
  {
   "cell_type": "code",
   "execution_count": 9,
   "id": "preliminary-thailand",
   "metadata": {},
   "outputs": [
    {
     "data": {
      "text/plain": [
       "20"
      ]
     },
     "execution_count": 9,
     "metadata": {},
     "output_type": "execute_result"
    }
   ],
   "source": [
    "#Checking the length of the list i.e. the number of elements in the bar_list. Why are we doing this? Wait and watch!\n",
    "len(company_list)"
   ]
  },
  {
   "cell_type": "code",
   "execution_count": 10,
   "id": "intelligent-michigan",
   "metadata": {},
   "outputs": [],
   "source": [
    "#To convert both the lists to a dataframe, we need to ensure that the lengths of both the lists are exactly same.\n",
    "#We have already verified the lengths of both the list which is 43.\n",
    "#So we can proceed with joining these two lists into a dataframe\n",
    "\n",
    "#Converting both the lists into a dataframe\n",
    "minn_company = pd.DataFrame({'Company': company_list})"
   ]
  },
  {
   "cell_type": "code",
   "execution_count": 11,
   "id": "verified-gambling",
   "metadata": {},
   "outputs": [
    {
     "name": "stdout",
     "output_type": "stream",
     "text": [
      "                    Company\n",
      "0   Watnall Road Car Centre\n",
      "1               A .2 B Cars\n",
      "2          A Stitch in Time\n",
      "3          A Stitch In Time\n",
      "4          A Stitch In Time\n",
      "5                  A W Lymn\n",
      "6                       A2B\n",
      "7                      Aldi\n",
      "8       Alicia's Nail Salon\n",
      "9                    Alpine\n",
      "10   Annesley Road Fish Bar\n",
      "11              Argos Extra\n",
      "12        Atlantis Fish Bar\n",
      "13              Avanti Hair\n",
      "14      B & M Installations\n",
      "15             B&M Bargains\n",
      "16            Bairstow Eves\n",
      "17    Bambino Beads Limited\n",
      "18                Bap Shack\n",
      "19        Barclays Bank PLC\n"
     ]
    }
   ],
   "source": [
    "#Displaying the final dataframe\n",
    "print(minn_company)"
   ]
  },
  {
   "cell_type": "code",
   "execution_count": 12,
   "id": "million-roots",
   "metadata": {},
   "outputs": [],
   "source": [
    "#minn_company.to_csv('Hucknall_9.csv',index=False)"
   ]
  },
  {
   "cell_type": "code",
   "execution_count": null,
   "id": "destroyed-emphasis",
   "metadata": {},
   "outputs": [],
   "source": []
  }
 ],
 "metadata": {
  "kernelspec": {
   "display_name": "Python 3",
   "language": "python",
   "name": "python3"
  },
  "language_info": {
   "codemirror_mode": {
    "name": "ipython",
    "version": 3
   },
   "file_extension": ".py",
   "mimetype": "text/x-python",
   "name": "python",
   "nbconvert_exporter": "python",
   "pygments_lexer": "ipython3",
   "version": "3.8.5"
  },
  "toc-autonumbering": false,
  "toc-showcode": false,
  "toc-showmarkdowntxt": false
 },
 "nbformat": 4,
 "nbformat_minor": 5
}
